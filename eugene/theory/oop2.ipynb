{
 "cells": [
  {
   "attachments": {},
   "cell_type": "markdown",
   "metadata": {},
   "source": [
    "# OOP2"
   ]
  },
  {
   "attachments": {},
   "cell_type": "markdown",
   "metadata": {},
   "source": [
    "## Приципы ООП\n",
    "\n",
    "- Инкапсуляция\n",
    "- Наследование\n",
    "- Полиморфизм  \n",
    "  \n",
    "## Инкапсуляция\n",
    "Все данные объекта должны хранится в объекте. Никто не может изменить данные объекта без его ведома.\n",
    "\n",
    "## Наследование\n",
    "Объекты и их типы организуют иерархию типов. Дочерние типы наследуют свою функциональность от родительского класса, расширяя и дополняя её.\n",
    "\n",
    "## Полиморфизм\n",
    "Способность классов менять своё поведение в зависимости от типов операций и операндов. Полиморфизм в программировании реализуется через перегрузку метода, либо через его переопределение."
   ]
  },
  {
   "cell_type": "code",
   "execution_count": 2,
   "metadata": {},
   "outputs": [
    {
     "name": "stdout",
     "output_type": "stream",
     "text": [
      "4\n",
      "8\n"
     ]
    }
   ],
   "source": [
    "class Cat:\n",
    "    pows = 4\n",
    "    tail = True\n",
    "    ears = 2\n",
    "    fur = True\n",
    "\n",
    "barsik = Cat()\n",
    "print(barsik.pows)\n",
    "barsik.pows = 8\n",
    "print(barsik.pows)\n"
   ]
  },
  {
   "cell_type": "code",
   "execution_count": 34,
   "metadata": {},
   "outputs": [
    {
     "name": "stdout",
     "output_type": "stream",
     "text": [
      "давим на газ, мотор ревет my max speed is 250\n",
      "давим на газ, мотор ревет\n",
      "я мчусь со скоростью 200\n",
      "крутим педали, волосы назад\n",
      "я мчусь со скоростью 50\n",
      "I'm jumping\n",
      "my speed is my max speed is 50\n"
     ]
    }
   ],
   "source": [
    "class Vehicle:\n",
    "    def __init__(self, max_speed=None):\n",
    "        self.max_speed = max_speed\n",
    "\n",
    "    def go(self):\n",
    "        print('как-то движется')\n",
    "\n",
    "    def go_fast(self, speed):\n",
    "        if self.max_speed and speed <= self.max_speed:\n",
    "            print(f'я мчусь со скоростью {speed}')\n",
    "        elif self.max_speed and speed > self.max_speed:\n",
    "            print('не умею так быстро')\n",
    "        else:\n",
    "            print('я не знаю умею ли я двигаться')\n",
    "\n",
    "    def p(self, text):\n",
    "        print(text, f'my max speed is {self.max_speed}')\n",
    "\n",
    "\n",
    "class Car(Vehicle):\n",
    "    def __init__(self, max_speed):\n",
    "        super().__init__(max_speed)\n",
    "\n",
    "    def go(self):\n",
    "        self.p('давим на газ, мотор ревет')\n",
    "        print('давим на газ, мотор ревет')  #  пример полиморфизма, это и есть перегрузка метода. Т.е. переписывание содержимого метода\n",
    "\n",
    "\n",
    "class bicicle(Vehicle):\n",
    "    def __init__(self, max_speed):\n",
    "        super().__init__(max_speed)\n",
    "\n",
    "    def go(self):\n",
    "        print('крутим педали, волосы назад')  #  пример полиморфизма\n",
    "\n",
    "    def jump(self):\n",
    "        print('I\\'m jumping')\n",
    "\n",
    "\n",
    "porshe = Car(250)\n",
    "zaz = Car(100)\n",
    "aist = bicicle(50)\n",
    "bmx = bicicle(50)\n",
    "porshe.go()\n",
    "porshe.go_fast(200)   #  пример наследования\n",
    "# porshe.jump() - так невозможно\n",
    "\n",
    "aist.go()\n",
    "aist.go_fast(50)\n",
    "aist.jump()\n",
    "aist.p('my speed is')\n",
    "\n"
   ]
  },
  {
   "cell_type": "code",
   "execution_count": 10,
   "metadata": {},
   "outputs": [
    {
     "name": "stdout",
     "output_type": "stream",
     "text": [
      "1 False\n",
      "1 False\n"
     ]
    }
   ],
   "source": [
    "a = 1\n",
    "t = False\n",
    "print(str(a), str(t))\n",
    "print(a.__str__(), t.__str__())"
   ]
  },
  {
   "attachments": {},
   "cell_type": "markdown",
   "metadata": {},
   "source": [
    "# Магические методы"
   ]
  },
  {
   "attachments": {},
   "cell_type": "markdown",
   "metadata": {},
   "source": [
    "Метод конвертации в строку \\_\\_str\\_\\_, \\_\\_repr\\_\\_\n",
    "Каждый объект Python по умолчанию содержит метод \\_\\_str\\_\\_. Когда вы используете объект в качестве строки, вызывается метод \\_\\_str\\_\\_, который по умолчанию выводит локацию памяти объекта. Однако, вы также можете предоставить собственное определение метода \\_\\_str\\_\\_."
   ]
  },
  {
   "cell_type": "code",
   "execution_count": 18,
   "metadata": {},
   "outputs": [
    {
     "name": "stdout",
     "output_type": "stream",
     "text": [
      "<__main__.Cat object at 0x7ffad0313760>\n",
      "<__main__.Cat object at 0x7ffad0313760>\n"
     ]
    }
   ],
   "source": [
    "class Cat:\n",
    "    pows = 4\n",
    "    tail = True\n",
    "    ears = 2\n",
    "    fur = True\n",
    "\n",
    "\n",
    "barsik = Cat()\n",
    "print(barsik.__str__()) # == print(str(barsik))\n",
    "print(barsik) # == print(str(barsik))"
   ]
  },
  {
   "cell_type": "code",
   "execution_count": 17,
   "metadata": {},
   "outputs": [
    {
     "name": "stdout",
     "output_type": "stream",
     "text": [
      "A cat with 4 pows, 2 ears\n",
      "A cat with 4 pows, 2 ears\n"
     ]
    }
   ],
   "source": [
    "class Cat:\n",
    "    pows = 4\n",
    "    tail = True\n",
    "    ears = 2\n",
    "    fur = True\n",
    "\n",
    "    def __str__(self) -> str:\n",
    "        return f'A cat with {self.pows} pows, {self.ears} ears'\n",
    "\n",
    "barsik = Cat()\n",
    "print(barsik.__str__()) # == print(str(barsik))\n",
    "print(barsik) # == print(str(barsik))"
   ]
  },
  {
   "attachments": {},
   "cell_type": "markdown",
   "metadata": {},
   "source": [
    "## Метод инициации \\_\\_init\\_\\_\n",
    "Метод позволяет инициализировать поля объекта определённой информацией или произвести какие-либо действия при его создании."
   ]
  },
  {
   "attachments": {},
   "cell_type": "markdown",
   "metadata": {},
   "source": [
    "Метод проверки на неравенство \\_\\_gt\\_\\_, \\_\\_lt\\_\\_, \\_\\_ge\\_\\_, \\_\\_le\\_\\_"
   ]
  },
  {
   "attachments": {},
   "cell_type": "markdown",
   "metadata": {},
   "source": [
    "Арифметические методы \\_\\_add\\_\\_, \\_\\_sub\\_\\_, \\_\\_mul\\_\\_, \\_\\_div\\_\\_, \\_\\_xor\\_\\_, \\_\\_and\\_\\_, ..."
   ]
  },
  {
   "cell_type": "code",
   "execution_count": 23,
   "metadata": {},
   "outputs": [
    {
     "name": "stdout",
     "output_type": "stream",
     "text": [
      "False\n",
      "45.0\n"
     ]
    }
   ],
   "source": [
    "# __gt__ = greater\n",
    "# __lt__ = less\n",
    "# __ge__ = greater or equal\n",
    "# __le__ = less or equal\n",
    "\n",
    "class Bicicle(Vehicle):\n",
    "    def __init__(self, max_speed):\n",
    "        super().__init__(max_speed)\n",
    "\n",
    "    def __ge__(self, obj):\n",
    "        return self.max_speed >= obj.max_speed\n",
    "    \n",
    "    def __lt__(self, obj):\n",
    "        return self.max_speed < obj.max_speed\n",
    "\n",
    "    def __add__(self, obj):\n",
    "        return (self.max_speed + obj.max_speed) / 2\n",
    "\n",
    "aist = Bicicle(50)\n",
    "bmx = Bicicle(40)\n",
    "print(aist < bmx)\n",
    "print(aist + bmx)"
   ]
  },
  {
   "attachments": {},
   "cell_type": "markdown",
   "metadata": {},
   "source": [
    "## Защита данных внутри объекта"
   ]
  },
  {
   "cell_type": "code",
   "execution_count": 24,
   "metadata": {},
   "outputs": [
    {
     "name": "stdout",
     "output_type": "stream",
     "text": [
      "8\n"
     ]
    }
   ],
   "source": [
    "class Cat:\n",
    "    pows = 4\n",
    "    tail = True\n",
    "    ears = 2\n",
    "    fur = True\n",
    "\n",
    "barsik = Cat()\n",
    "barsik.pows = 8\n",
    "print(barsik.pows)"
   ]
  },
  {
   "cell_type": "code",
   "execution_count": 25,
   "metadata": {},
   "outputs": [
    {
     "name": "stdout",
     "output_type": "stream",
     "text": [
      "8\n"
     ]
    }
   ],
   "source": [
    "class Cat:\n",
    "    _pows = 4\n",
    "    _tail = True\n",
    "    _ears = 2\n",
    "    _fur = True\n",
    "\n",
    "barsik = Cat()\n",
    "barsik._pows = 8\n",
    "print(barsik._pows)"
   ]
  },
  {
   "cell_type": "code",
   "execution_count": 27,
   "metadata": {},
   "outputs": [
    {
     "name": "stdout",
     "output_type": "stream",
     "text": [
      "8\n"
     ]
    }
   ],
   "source": [
    "class Cat:\n",
    "    def __init__(self) -> None:\n",
    "        self.__pows = 4\n",
    "        self.__tail = True\n",
    "        self.__ears = 2\n",
    "        self.__fur = True\n",
    "\n",
    "barsik = Cat()\n",
    "barsik.__pows = 8  # нельзя\n",
    "print(barsik.__pows)"
   ]
  },
  {
   "cell_type": "code",
   "execution_count": null,
   "metadata": {},
   "outputs": [],
   "source": [
    "class Cat:\n",
    "    def __init__(self) -> None:\n",
    "        self.__pows = 4\n",
    "        self.__tail = True\n",
    "        self.__ears = 2\n",
    "        self.__fur = True\n",
    "\n",
    "    @property\n",
    "    def pows(self):\n",
    "        return self.__pows\n",
    "\n",
    "barsik = Cat()"
   ]
  },
  {
   "cell_type": "code",
   "execution_count": 31,
   "metadata": {},
   "outputs": [
    {
     "name": "stdout",
     "output_type": "stream",
     "text": [
      "5\n"
     ]
    }
   ],
   "source": [
    "class Cat:\n",
    "    def __init__(self) -> None:\n",
    "        self.__pows = 4\n",
    "        self.__tail = True\n",
    "        self._ears = 2\n",
    "        self.__fur = True\n",
    "\n",
    "    @property\n",
    "    def pows(self):\n",
    "        return self.__pows\n",
    "\n",
    "    @pows.setter\n",
    "    def pows(self, pows_qty):\n",
    "        self.__pows = pows_qty\n",
    "\n",
    "    @pows.deleter\n",
    "    def pows(self):\n",
    "        del self.__pows\n",
    "\n",
    "barsik = Cat()\n",
    "barsik.pows = 5\n",
    "# del barsik.pows\n",
    "print(barsik.pows)"
   ]
  }
 ],
 "metadata": {
  "kernelspec": {
   "display_name": "venv",
   "language": "python",
   "name": "python3"
  },
  "language_info": {
   "codemirror_mode": {
    "name": "ipython",
    "version": 3
   },
   "file_extension": ".py",
   "mimetype": "text/x-python",
   "name": "python",
   "nbconvert_exporter": "python",
   "pygments_lexer": "ipython3",
   "version": "3.10.6 (main, Nov 14 2022, 16:10:14) [GCC 11.3.0]"
  },
  "orig_nbformat": 4,
  "vscode": {
   "interpreter": {
    "hash": "934c0b5c8495c995e4e9bb089009b226fdc06a8e1cbef8b3aa4617ba323c6fd0"
   }
  }
 },
 "nbformat": 4,
 "nbformat_minor": 2
}
