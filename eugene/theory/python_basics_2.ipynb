{
 "cells": [
  {
   "cell_type": "markdown",
   "metadata": {},
   "source": [
    "## Переменные в Python\n",
    "Переменная - это элемент, который хранит в себе какие либо данные.\n",
    "Если мы создали переменную, то она никогда не бывает абсолютно пустой. В ней может храниться, например, пустая строка. Тогда переменная хранит строку, которая пустая. И хранит ее до тех пор, пока программа не завершит работу.\n"
   ]
  },
  {
   "cell_type": "markdown",
   "metadata": {},
   "source": [
    "## Типы данных в Python\n",
    "Number (целое число)  \n",
    "String (строка)  \n",
    "List (список)  \n",
    "Dictionary (словарь)  \n",
    "Tuple (кортеж)  \n",
    "Set (множество)  \n",
    "Boolean (логический тип данных)  \n",
    "Float(числа с плавающей точкой)  "
   ]
  },
  {
   "cell_type": "markdown",
   "metadata": {},
   "source": [
    "## List(списки)\n",
    "Python список - структура данных для хранения последовательностей.   \n",
    "Экземпляры значений, находящихся в списке, называются элементами списка.  "
   ]
  },
  {
   "cell_type": "code",
   "execution_count": 12,
   "metadata": {},
   "outputs": [
    {
     "name": "stdout",
     "output_type": "stream",
     "text": [
      "1\n",
      "6\n",
      "False\n",
      "1\n"
     ]
    },
    {
     "data": {
      "text/plain": [
       "[1, 2, 4, 42, None, 'dlfkjgdg', False]"
      ]
     },
     "execution_count": 12,
     "metadata": {},
     "output_type": "execute_result"
    }
   ],
   "source": [
    "my_list = [1, 2, 4, 6, None, 'dlfkjgdg', False]\n",
    "print(my_list[0])  # получение элемента из списка с помощью его идентификатора\n",
    "print(my_list[3])\n",
    "print(my_list[-1])  # получение последнего элемента списка\n",
    "print(my_list[-7])\n",
    "my_list[3] = 42  # изменение четвертого элемента списка\n",
    "my_list"
   ]
  },
  {
   "cell_type": "code",
   "execution_count": 16,
   "metadata": {},
   "outputs": [
    {
     "name": "stdout",
     "output_type": "stream",
     "text": [
      "['text', 11, True]\n"
     ]
    }
   ],
   "source": [
    "my_list = []  # создание пустого списка\n",
    "# ==\n",
    "my_list = list()  # тоже создание пустого списка\n",
    "my_list.append('text')  # добавление в конец списка нового элемента\n",
    "my_list.append(11)\n",
    "my_list.append(True)\n",
    "print(my_list)"
   ]
  },
  {
   "cell_type": "code",
   "execution_count": 17,
   "metadata": {},
   "outputs": [
    {
     "name": "stdout",
     "output_type": "stream",
     "text": [
      "3\n",
      "False\n",
      "2\n",
      "['text', 11]\n",
      "True\n"
     ]
    }
   ],
   "source": [
    "print(len(my_list))  # получение размера (количества элементов) списка\n",
    "print('text1' in my_list)  # проверка есть ли искомый элемент в списке\n",
    "print(my_list.index(True))  # поиск на какой позиции в списке находится элемент со значением True\n",
    "true_id = my_list.index(True)\n",
    "deleted_elt = my_list.pop(true_id)  # удаление из списка элемента по его ID и сохранение удаленного элемента в переменную\n",
    "print(my_list)\n",
    "print(deleted_elt)"
   ]
  },
  {
   "cell_type": "markdown",
   "metadata": {},
   "source": [
    "## Dictionary(словари)\n",
    "Словари в Python - неупорядоченные коллекции произвольных объектов с доступом по ключу. Их иногда ещё называют ассоциативными массивами или хеш-таблицами.  \n",
    "  \n",
    "данные в словаре - это пары ключ: значение  \n",
    "доступ к значениям осуществляется по ключу, а не по номеру, как в списках  \n",
    "данные в словаре упорядочены по порядку добавления элементов  \n",
    "так как словари изменяемы, то элементы словаря можно менять, добавлять, удалять  \n",
    "ключ должен быть объектом неизменяемого типа: число, строка, кортеж  \n",
    "значение может быть данными любого типа  "
   ]
  },
  {
   "cell_type": "code",
   "execution_count": 60,
   "metadata": {},
   "outputs": [
    {
     "name": "stdout",
     "output_type": "stream",
     "text": [
      "value\n",
      "2\n",
      "hehehehehhehe\n",
      "dict_keys(['one', 'three', 'five', 'seven', 'nine'])\n",
      "dict_values(['my value 1', 'value5', 'my value5', <function one at 0x7fdda15fb7f0>, {'one': 'value', 'three': 'value5'}])\n",
      "dict_items([('one', 'my value 1'), ('three', 'value5'), ('five', 'my value5'), ('seven', <function one at 0x7fdda15fb7f0>), ('nine', {'one': 'value', 'three': 'value5'})])\n",
      "{'one': 'my value 1', 'three': 'value5', 'five': 'my value5', 'seven': <function one at 0x7fdda15fb7f0>, 'nine': {'one': 'value', 'three': 'value5'}}\n"
     ]
    }
   ],
   "source": [
    "my_dict = {}  # Создание пустого словаря\n",
    "# ==\n",
    "my_dict = dict()  # тоже создание пустого словаря\n",
    "my_dict = {'one': 'value', 'three': 'value5'}\n",
    "print(my_dict['one'])\n",
    "print(len(my_dict))\n",
    "my_dict['five'] = 'my value5'  # добавление в словарь новой пары ключ-значение\n",
    "my_dict['one'] = 'my value 1'  # изменение значения элемента с ключом 'one'\n",
    "\n",
    "\n",
    "def one():\n",
    "    print('hehehehehhehe')  # функция с помощью которой я демонстрировал, что в качестве элемента может быть добавлено что угодно, даже функция\n",
    "\n",
    "my_dict['seven'] = one  # добавление функции в качестве значения\n",
    "my_dict['nine'] = {'one': 'value', 'three': 'value5'}  # добавление словаря в качестве значения\n",
    "my_dict['seven']()  # вызов функции, которую добавляли\n",
    "print(my_dict.keys())  # получение всех ключей словаря в виде списка\n",
    "print(my_dict.values())  # получение всех значений словаря в виде списка\n",
    "print(my_dict.items())  # получение всех пар ключ-значение в виде списка кортежей\n",
    "print(my_dict)\n",
    "\n"
   ]
  },
  {
   "cell_type": "markdown",
   "metadata": {},
   "source": [
    "## Tuple(кортежи)\n",
    "Хранят данные различных типов  \n",
    "Неизменяемы  \n",
    "Занимают меньший размер  \n",
    "Оптимизируются интепретатором   \n",
    "По поведению похожи на списки. Главное отличие - нет функций, позволяющих что-то добавить в кортеж или изменить внутри него"
   ]
  },
  {
   "cell_type": "code",
   "execution_count": 30,
   "metadata": {},
   "outputs": [
    {
     "name": "stdout",
     "output_type": "stream",
     "text": [
      "3\n"
     ]
    },
    {
     "data": {
      "text/plain": [
       "(1, 2, 3, True, 'text', None)"
      ]
     },
     "execution_count": 30,
     "metadata": {},
     "output_type": "execute_result"
    }
   ],
   "source": [
    "my_tuple = (1, 2, 3, True, 'text', None)\n",
    "print(my_tuple[2])\n",
    "# my_tuple[1] = 5 - эта штука вернет ошибку, т.к. внутри кортежа нельзя ничего изменять\n",
    "my_tuple = (1, 2, 'text', None)"
   ]
  },
  {
   "cell_type": "markdown",
   "metadata": {},
   "source": [
    "## Set(множества)\n",
    "Содержит в себе только неповторяющиеся элементы  \n",
    "Не гарантирует порядок элементов  \n",
    "Работа с ним тоже похожа на работу со списком  "
   ]
  },
  {
   "cell_type": "code",
   "execution_count": 62,
   "metadata": {},
   "outputs": [
    {
     "name": "stdout",
     "output_type": "stream",
     "text": [
      "<class 'set'>\n",
      "{'', 1, 5, False}\n"
     ]
    }
   ],
   "source": [
    "my_set = set()\n",
    "print(type(my_set))\n",
    "my_set.add(1)\n",
    "my_set.add(5)\n",
    "my_set.add(1)\n",
    "my_set.add('')\n",
    "my_set.add(False)\n",
    "print(my_set)\n",
    "# print(my_set[1]) - вернет ошибку, т.к. элементы внутри множества не имеют четкой позиции"
   ]
  },
  {
   "cell_type": "code",
   "execution_count": 34,
   "metadata": {},
   "outputs": [
    {
     "data": {
      "text/plain": [
       "[1, 2, 3, 4, 5]"
      ]
     },
     "execution_count": 34,
     "metadata": {},
     "output_type": "execute_result"
    }
   ],
   "source": [
    "my_list = [1, 2, 3,4 ,5, 3,2,1,5]\n",
    "my_list = list(set(my_list))  # способ превращения списка в список уникальных элементов. Здась два раза использовано преобразование типов: сначала в множество, потом в список\n",
    "my_list"
   ]
  },
  {
   "cell_type": "markdown",
   "metadata": {},
   "source": [
    "### Распаковка\n",
    "Используется для того, чтобы распределить элементы коллекции (список, словарь, множество, кортеж) по отдельным переменным.  \n",
    "Используется только в ситуациях, когда вы наверняка знаете количество элементов, содержащихся в коллекции."
   ]
  },
  {
   "cell_type": "code",
   "execution_count": 35,
   "metadata": {},
   "outputs": [
    {
     "name": "stdout",
     "output_type": "stream",
     "text": [
      "1 4 6 8\n"
     ]
    }
   ],
   "source": [
    "my_tuple = (1, 4, 6, 8)\n",
    "a, b, c, d = my_tuple\n",
    "print(a, b, c, d)"
   ]
  },
  {
   "cell_type": "code",
   "execution_count": 40,
   "metadata": {},
   "outputs": [
    {
     "name": "stdout",
     "output_type": "stream",
     "text": [
      "5\n",
      "(5,)\n",
      "text {'name': 'John'} (3,) 5\n"
     ]
    }
   ],
   "source": [
    "my_list = ['text', {'name': 'John'}, (3,), 5]\n",
    "[5]  # List with one value\n",
    "(5,)  # tuple with one value\n",
    "print((5))\n",
    "print((5,))\n",
    "a, b, c, d = my_list\n",
    "print(a, b, c, d)"
   ]
  },
  {
   "cell_type": "code",
   "execution_count": 49,
   "metadata": {},
   "outputs": [
    {
     "name": "stdout",
     "output_type": "stream",
     "text": [
      "one three five seven nine\n"
     ]
    }
   ],
   "source": [
    "a, b, c, d, e = my_dict\n",
    "print(a, b, c, d, e)  # со словарями редко используется. В отдельные переменные записываются только ключи"
   ]
  },
  {
   "cell_type": "code",
   "execution_count": 50,
   "metadata": {},
   "outputs": [
    {
     "name": "stdout",
     "output_type": "stream",
     "text": [
      "(3, (1, 2))\n",
      "3\n",
      "(1, 2)\n"
     ]
    }
   ],
   "source": [
    "'''\n",
    "Распаковка результатов функции. Когда функция возвращает в результате \n",
    "своей работы несколько элементов, то они воспринимаются питоном как кортеж\n",
    "'''\n",
    "\n",
    "def summ(a, b):\n",
    "    result = a + b\n",
    "    return result, (a, b)\n",
    "\n",
    "print(summ(1, 2))  # Демонстрация того, что результат воспринят как кортеж\n",
    "summ_result, initial_values = summ(1, 2)\n",
    "print(summ_result)\n",
    "print(initial_values)"
   ]
  },
  {
   "cell_type": "markdown",
   "metadata": {},
   "source": [
    "### Срез  \n",
    "Извлечение среза позволяет взять из списка определенную его часть"
   ]
  },
  {
   "cell_type": "code",
   "execution_count": 52,
   "metadata": {},
   "outputs": [
    {
     "name": "stdout",
     "output_type": "stream",
     "text": [
      "['text', {'name': 'John'}, (3,)]\n",
      "[93, 42]\n",
      "[(3,), 9, 42]\n",
      "[42, 93, 10, 9, 7, 5, (3,), {'name': 'John'}, 'text']\n",
      "[10, 7, (3,), 'text']\n",
      "l\n",
      "12\n",
      "True\n"
     ]
    }
   ],
   "source": [
    "my_list = ['text', {'name': 'John'}, (3,), 5, 7, 9, 10, 93, 42]\n",
    "new_list = my_list[0: 3]  # получение из списка всех элементов от первого (0) до четвертого (3) не включительно\n",
    "# ==\n",
    "new_list = my_list[:3]  # Если извлечение происходит с первого элемента, то 0 можно не писать - это означает, что извлечение происходит с самого начала\n",
    "print(new_list)\n",
    "new_list = my_list[-2:]  # получение элементов начиная с второго элемента с конца и до конца списка\n",
    "print(new_list)\n",
    "new_list = my_list[2::3]  # получение каждого третьего элемента, начиная с элемента с ID 2\n",
    "print(new_list)\n",
    "new_list = my_list[::-1]  # получение всех элементов наоборот (начиная с конца)\n",
    "print(new_list)\n",
    "new_list = my_list[-3::-2]  # получение каждого второго элемента списка двигаясь с конца и начиная с третьего элемента с конца\n",
    "print(new_list)\n",
    "my_string = 'my long text'\n",
    "new_string = my_string[:5]  # со строкой работают многие способы, которые работают со списком, т.к. строка это коллекция (последовательность) символов\n",
    "print(my_string[3])\n",
    "print(len(my_string))\n",
    "print('text' in my_string)"
   ]
  },
  {
   "cell_type": "markdown",
   "metadata": {},
   "source": [
    "## Методы строк"
   ]
  },
  {
   "cell_type": "code",
   "execution_count": 54,
   "metadata": {},
   "outputs": [
    {
     "name": "stdout",
     "output_type": "stream",
     "text": [
      "This text with messed up capitalization!\n",
      "This Text With Messed Up Capitalization!\n",
      "THIS TEXT WITH MESSED UP CAPITALIZATION!\n",
      "this text with messed up capitalization!\n"
     ]
    }
   ],
   "source": [
    "txt = \"ThIs tExt wiTh meSsEd uP CaPITalIZatiOn!\"\n",
    "print(txt.capitalize())  # Делает первую букву предложения заглавной\n",
    "print(txt.title())  # Делает каждую первую букву заглавной\n",
    "print(txt.upper())  # Делает все буквы большими\n",
    "print(txt.lower())  # Делает все буквы маленькими"
   ]
  },
  {
   "cell_type": "code",
   "execution_count": 58,
   "metadata": {},
   "outputs": [
    {
     "name": "stdout",
     "output_type": "stream",
     "text": [
      "Hello universe! Our universe is so beautiful!\n",
      "word\n",
      "word \n",
      " word\n"
     ]
    }
   ],
   "source": [
    "msg = \"Hello world! Our world is so beautiful!\"\n",
    "print(msg.replace(\"world\", \"universe\"))  # Замена содержимого строки\n",
    "\n",
    "txt = ' word '\n",
    "print(txt.strip())  # убирание пробелов перед и после текста\n",
    "print(txt.lstrip())  # убирание пробелов только слева (перед текстом)\n",
    "print(txt.rstrip())  # убирание пробелов только справа (после текста)"
   ]
  },
  {
   "cell_type": "code",
   "execution_count": 57,
   "metadata": {},
   "outputs": [
    {
     "name": "stdout",
     "output_type": "stream",
     "text": [
      "3\n"
     ]
    }
   ],
   "source": [
    "text = 'My interesting text with not so many words'\n",
    "print(text.count('i'))  # подсчет сколько раз в тексте встречается буква"
   ]
  }
 ],
 "metadata": {
  "kernelspec": {
   "display_name": "Python 3.10.6 64-bit",
   "language": "python",
   "name": "python3"
  },
  "language_info": {
   "codemirror_mode": {
    "name": "ipython",
    "version": 3
   },
   "file_extension": ".py",
   "mimetype": "text/x-python",
   "name": "python",
   "nbconvert_exporter": "python",
   "pygments_lexer": "ipython3",
   "version": "3.10.6"
  },
  "orig_nbformat": 4,
  "vscode": {
   "interpreter": {
    "hash": "916dbcbb3f70747c44a77c7bcd40155683ae19c65e1c03b4aa3499c5328201f1"
   }
  }
 },
 "nbformat": 4,
 "nbformat_minor": 2
}
