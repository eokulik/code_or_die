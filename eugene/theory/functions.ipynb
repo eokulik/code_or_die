{
 "cells": [
  {
   "cell_type": "markdown",
   "metadata": {},
   "source": [
    "# Функции"
   ]
  },
  {
   "cell_type": "markdown",
   "metadata": {},
   "source": [
    "Это самые основные программные структуры в языке Python, позволяющие многократное использование программного кода и уменьшающие его избыточность. Так же позволяют разбить сложную систему на достаточно простые и легко управляемые части. Они могут принимать аргументы и возвращать результаты выполнения."
   ]
  },
  {
   "cell_type": "code",
   "execution_count": 10,
   "metadata": {},
   "outputs": [
    {
     "name": "stdout",
     "output_type": "stream",
     "text": [
      "Masha + vasia = hateblond\n"
     ]
    }
   ],
   "source": [
    "def masha(boy, hair):\n",
    "    if boy == 'Petia':\n",
    "        result = f'Masha + {boy} = love'\n",
    "    else:\n",
    "        result = f'Masha + {boy} = hate'\n",
    "    result += hair\n",
    "    return result\n",
    "\n",
    "# masha('Petia')\n",
    "# print('d')\n",
    "print(masha('vasia', 'blond'))"
   ]
  },
  {
   "cell_type": "code",
   "execution_count": 1,
   "metadata": {},
   "outputs": [
    {
     "name": "stdout",
     "output_type": "stream",
     "text": [
      "Start\n",
      "after function\n",
      "inside function\n",
      "4\n",
      "inside function\n",
      "8\n",
      "inside function\n",
      "8\n",
      "inside function\n",
      "8\n",
      "inside function\n",
      "8\n"
     ]
    }
   ],
   "source": [
    "print('Start')\n",
    "\n",
    "def power(numb, degree=2):\n",
    "    print('inside function')\n",
    "    return numb ** degree\n",
    "\n",
    "print('after function')\n",
    "print(power(2))\n",
    "print(power(2, 3))\n",
    "print(power(numb=2, degree=3))\n",
    "print(power(2, degree=3))\n",
    "print(power(degree=3, numb=2))"
   ]
  },
  {
   "cell_type": "markdown",
   "metadata": {},
   "source": [
    "Возврат из функции более одного результата"
   ]
  },
  {
   "cell_type": "code",
   "execution_count": 23,
   "metadata": {},
   "outputs": [
    {
     "name": "stdout",
     "output_type": "stream",
     "text": [
      "(4, 9)\n",
      "4 9\n"
     ]
    }
   ],
   "source": [
    "def get_squares(first, second):\n",
    "    return first * first, second * second\n",
    "\n",
    "print(get_squares(2, 3))\n",
    "first_square, second_square = get_squares(2, 3)\n",
    "print(first_square, second_square)"
   ]
  },
  {
   "cell_type": "markdown",
   "metadata": {},
   "source": [
    "Неограниченное количество позиционных агрументов"
   ]
  },
  {
   "cell_type": "code",
   "execution_count": 30,
   "metadata": {},
   "outputs": [
    {
     "name": "stdout",
     "output_type": "stream",
     "text": [
      "('1 2 4 2 1 2 4 4 3', ['1', '2', '4', '2', '1', '2', '4', '4', '3'])\n"
     ]
    }
   ],
   "source": [
    "def concat(*args):\n",
    "    # print(args)\n",
    "    new_list = []\n",
    "    for arg in args:\n",
    "        new_list.append(arg)\n",
    "    return ' '.join(args), new_list\n",
    "\n",
    "print(concat('1', '2', '4','2' ,'1' ,'2', '4', '4','3'))"
   ]
  },
  {
   "cell_type": "markdown",
   "metadata": {},
   "source": [
    "Неограниченное количество именованных аргументов"
   ]
  },
  {
   "cell_type": "code",
   "execution_count": 35,
   "metadata": {},
   "outputs": [
    {
     "name": "stdout",
     "output_type": "stream",
     "text": [
      "{1: 'a', 'key1': 'c', 'key2': 'g'}\n"
     ]
    }
   ],
   "source": [
    "def append_to_dict(dictonary: dict, **kwargs) -> dict:\n",
    "    '''\n",
    "    This function appends values given in kwargs to the given dictionary\n",
    "    '''\n",
    "    # print(kwargs)\n",
    "    for key, value in kwargs.items():\n",
    "        dictonary[key] = value\n",
    "    return dictonary\n",
    "\n",
    "print(append_to_dict({1: 'a'}, key1='c', key2='g'))"
   ]
  },
  {
   "cell_type": "code",
   "execution_count": null,
   "metadata": {},
   "outputs": [],
   "source": [
    "def connect(host, port: str, username, password, *args, connection_name='new_conn', **kwargs):\n",
    "    certificate = None\n",
    "    if 'ssl' in kwargs:\n",
    "        certificate = kwargs['certificate']\n",
    "\n",
    "connect('www', '23434', 'user', 'pass', ssl=True, certificate='lskjdfhoiuwerjhfsdkjfvbjiyegrijsbkjdfvhgkdjfgwer')"
   ]
  },
  {
   "cell_type": "markdown",
   "metadata": {},
   "source": [
    "## Генератор списков"
   ]
  },
  {
   "cell_type": "code",
   "execution_count": 37,
   "metadata": {},
   "outputs": [
    {
     "name": "stdout",
     "output_type": "stream",
     "text": [
      "['qwe', 'ert']\n",
      "['qweing', 'erting', 'werting', 'sdfging']\n"
     ]
    }
   ],
   "source": [
    "a = []\n",
    "for i in range(1, 10):\n",
    "   a.append(i)\n",
    "\n",
    "a = [i for i in range(1, 10)]\n",
    "\n",
    "mylist = ['qwe', 'ert', 'wert', 'sdfg']\n",
    "less_than_4 = [x for x in mylist if len(x) < 4]\n",
    "print(less_than_4)\n",
    "modified = [x + 'ing' for x in mylist]\n",
    "print(modified)\n"
   ]
  },
  {
   "cell_type": "markdown",
   "metadata": {},
   "source": [
    "Генератор словаря"
   ]
  },
  {
   "cell_type": "code",
   "execution_count": 38,
   "metadata": {},
   "outputs": [
    {
     "name": "stdout",
     "output_type": "stream",
     "text": [
      "{1: 'qwe', 2: 'ert', 3: 'wert', 4: 'sdfg'}\n"
     ]
    }
   ],
   "source": [
    "mylist = [[1, 'qwe'], [2, 'ert'], [3, 'wert'], [4, 'sdfg']]\n",
    "my_dict = {key: value for key, value in mylist}\n",
    "print(my_dict)"
   ]
  }
 ],
 "metadata": {
  "kernelspec": {
   "display_name": "Python 3.10.6 64-bit",
   "language": "python",
   "name": "python3"
  },
  "language_info": {
   "codemirror_mode": {
    "name": "ipython",
    "version": 3
   },
   "file_extension": ".py",
   "mimetype": "text/x-python",
   "name": "python",
   "nbconvert_exporter": "python",
   "pygments_lexer": "ipython3",
   "version": "3.10.6"
  },
  "orig_nbformat": 4,
  "vscode": {
   "interpreter": {
    "hash": "916dbcbb3f70747c44a77c7bcd40155683ae19c65e1c03b4aa3499c5328201f1"
   }
  }
 },
 "nbformat": 4,
 "nbformat_minor": 2
}
