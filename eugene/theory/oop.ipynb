{
 "cells": [
  {
   "attachments": {},
   "cell_type": "markdown",
   "metadata": {},
   "source": [
    "# OOP"
   ]
  },
  {
   "attachments": {},
   "cell_type": "markdown",
   "metadata": {},
   "source": [
    "Объект — это экземпляр класса. В Python, чтобы создать объект класса, нам просто нужно вписать название класса, с последующими открывающимися и закрывающимися скобками."
   ]
  },
  {
   "cell_type": "code",
   "execution_count": 1,
   "metadata": {},
   "outputs": [
    {
     "name": "stdout",
     "output_type": "stream",
     "text": [
      "4\n"
     ]
    }
   ],
   "source": [
    "class Cat:\n",
    "    pows = 4\n",
    "    tail = True\n",
    "    ears = 2\n",
    "    fur = True\n",
    "\n",
    "    def go():\n",
    "        # команды, описывающие как ходит кот\n",
    "        pass\n",
    "\n",
    "    def eat():\n",
    "        ##\n",
    "        pass\n",
    "\n",
    "    def sleep():\n",
    "        ##\n",
    "        pass\n",
    "\n",
    "    def meow():\n",
    "        ##\n",
    "        pass\n",
    "\n",
    "barsik = Cat()\n",
    "murzik = Cat()\n",
    "print(barsik.pows)"
   ]
  },
  {
   "attachments": {},
   "cell_type": "markdown",
   "metadata": {},
   "source": [
    "Атрибуты класса делятся среди всех объектов класса, в то время как атрибуты экземпляров являются собственностью экземпляра. Атрибуты экземпляра объявляются внутри любого метода, в то время как атрибуты класса объявляются вне любого метода.\n",
    "\n",
    "Для того, чтобы получить доступ к атрибутам класса, вам нужно только вписать имя объекта, за которым следует оператор точка \".\" и название атрибута или метода, к которому вы хотите получить доступ или вызов, соответственно."
   ]
  },
  {
   "attachments": {},
   "cell_type": "markdown",
   "metadata": {},
   "source": [
    "Метод - действие, которое может производить ваш объект. Например, бегать, прыгать. В Python методы - функции, которые первым аргументом принимают экземпляр объекта. По традиции именования этот аргумент называют self - \"я\". Обращение к методу также идёт через точку. Вызов метода - через круглые скобки. Параметр self передавать не надо."
   ]
  },
  {
   "cell_type": "code",
   "execution_count": 8,
   "metadata": {},
   "outputs": [
    {
     "name": "stdout",
     "output_type": "stream",
     "text": [
      "4\n",
      "3\n",
      "goes normally\n",
      "goes badly\n"
     ]
    }
   ],
   "source": [
    "class Cat:\n",
    "    pows = 4\n",
    "    tail = True\n",
    "    ears = 2\n",
    "    fur = True\n",
    "\n",
    "    def __init__(self, color, pows=4):\n",
    "        self.color = color\n",
    "        self.pows = pows\n",
    "        print(self.pows)\n",
    "\n",
    "    def go(self):\n",
    "        if self.pows == 4:\n",
    "            print('goes normally')\n",
    "        else:\n",
    "            print('goes badly')\n",
    "\n",
    "\n",
    "    def eat(self):\n",
    "        ##\n",
    "        pass\n",
    "\n",
    "    def sleep(self):\n",
    "        ##\n",
    "        pass\n",
    "\n",
    "    def meow(self):\n",
    "        ##\n",
    "        pass\n",
    "\n",
    "barsik = Cat('grey')\n",
    "murzik = Cat('bronze', pows=3)\n",
    "# print(barsik.pows)\n",
    "barsik.go()\n",
    "murzik.go()"
   ]
  },
  {
   "attachments": {},
   "cell_type": "markdown",
   "metadata": {},
   "source": [
    "Примеры файлов с данными"
   ]
  },
  {
   "cell_type": "code",
   "execution_count": null,
   "metadata": {},
   "outputs": [],
   "source": [
    "# data1.txt\n",
    "{\"Country\": \"Turkey\", \"avg_temp\": 30}\n",
    "# data2.txt\n",
    "{\"Country\": \"Greece\", \"avg_temp\": 28}"
   ]
  },
  {
   "attachments": {},
   "cell_type": "markdown",
   "metadata": {},
   "source": [
    "Работа с файлами без помощи классов"
   ]
  },
  {
   "cell_type": "code",
   "execution_count": 11,
   "metadata": {},
   "outputs": [
    {
     "name": "stdout",
     "output_type": "stream",
     "text": [
      "Turkey {'Country': 'Greece', 'avg_temp': 28}\n"
     ]
    }
   ],
   "source": [
    "import json\n",
    "\n",
    "def read_file(filename):\n",
    "    with open(filename, 'r') as txt_file:\n",
    "        return txt_file.read()\n",
    "\n",
    "data1 = json.loads(read_file('data1.txt'))\n",
    "data2 = json.loads(read_file('data2.txt'))\n",
    "print(data1['Country'], data2)"
   ]
  },
  {
   "attachments": {},
   "cell_type": "markdown",
   "metadata": {},
   "source": [
    "Работа с файлами при помощи классов"
   ]
  },
  {
   "cell_type": "code",
   "execution_count": 12,
   "metadata": {},
   "outputs": [
    {
     "name": "stdout",
     "output_type": "stream",
     "text": [
      "Turkey 30 28\n"
     ]
    }
   ],
   "source": [
    "import json\n",
    "\n",
    "class DataFile:\n",
    "    def __init__(self, filename):\n",
    "        self.filename = filename\n",
    "        self.data = json.loads(self.read_file())\n",
    "        self.country = self.data['Country']\n",
    "        self.avg_temp = self.data['avg_temp']\n",
    "\n",
    "    def read_file(self):\n",
    "        with open(self.filename, 'r') as txt_file:\n",
    "            return txt_file.read()\n",
    "\n",
    "data1 = DataFile('data1.txt')\n",
    "data2 = DataFile('data2.txt')\n",
    "print(data1.country, data1.avg_temp, data2.avg_temp)"
   ]
  },
  {
   "attachments": {},
   "cell_type": "markdown",
   "metadata": {},
   "source": [
    "Создание дочернего класса, который наследует всё у родительского класса"
   ]
  },
  {
   "cell_type": "code",
   "execution_count": 19,
   "metadata": {},
   "outputs": [
    {
     "name": "stdout",
     "output_type": "stream",
     "text": [
      "Poland\n",
      "25 -10 True\n"
     ]
    }
   ],
   "source": [
    "class DataFileWithMinTemp(DataFile):\n",
    "    def __init__(self, filename):\n",
    "        super().__init__(filename)\n",
    "        print(self.country)\n",
    "        self.min_temp = self.data['min_temp']\n",
    "\n",
    "    def is_contrast(self):\n",
    "        return True if self.avg_temp - self.min_temp > 20 else False\n",
    "\n",
    "\n",
    "data3 = DataFileWithMinTemp('data3.txt')\n",
    "print(data3.avg_temp, data3.min_temp, data3.is_contrast())"
   ]
  },
  {
   "attachments": {},
   "cell_type": "markdown",
   "metadata": {},
   "source": [
    "Создание класса для работы с однотипными файлами данных упрощает последующую работу с такими же файлами. Вам больше не нужно будет запускать чтение файла отдельно и получать данные из него с помощью квадратных скобок. Все необходимые данные уже будут храниться внутри экземпляра. Для создание экземпляра вам будет необходимо только указать имя файла."
   ]
  },
  {
   "attachments": {},
   "cell_type": "markdown",
   "metadata": {},
   "source": [
    "Ниже - два куска кода, которые делают абсолютно одно и то же (читают содержимое файла), но первый вариант можно считать запрещенным. При чтении файла важно не забывать закрывать его после окончания работы с ним. Для того, чтобы гарантировать его закрытие, существует подход, называющийся \"Менеджер контекста\" (второй в примере).  \n",
    "Когда работа с файлом происходит с помощью менеджера контекста (with), то после того как отработал весь код, написанный в этом блоке, для открытого файла автоматически вызывается метод `__exit__`, который и закрывает файл."
   ]
  },
  {
   "cell_type": "code",
   "execution_count": null,
   "metadata": {},
   "outputs": [],
   "source": [
    "txt_file = open('data1.txt', 'r')\n",
    "data = txt_file.read()\n",
    "txt_file.close()\n",
    "# ==\n",
    "with open('data1.txt', 'r') as txt_file:\n",
    "    data = txt_file.read()"
   ]
  }
 ],
 "metadata": {
  "kernelspec": {
   "display_name": "venv",
   "language": "python",
   "name": "python3"
  },
  "language_info": {
   "codemirror_mode": {
    "name": "ipython",
    "version": 3
   },
   "file_extension": ".py",
   "mimetype": "text/x-python",
   "name": "python",
   "nbconvert_exporter": "python",
   "pygments_lexer": "ipython3",
   "version": "3.10.6 (main, Nov 14 2022, 16:10:14) [GCC 11.3.0]"
  },
  "orig_nbformat": 4,
  "vscode": {
   "interpreter": {
    "hash": "934c0b5c8495c995e4e9bb089009b226fdc06a8e1cbef8b3aa4617ba323c6fd0"
   }
  }
 },
 "nbformat": 4,
 "nbformat_minor": 2
}
