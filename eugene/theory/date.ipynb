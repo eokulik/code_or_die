{
 "cells": [
  {
   "attachments": {},
   "cell_type": "markdown",
   "metadata": {},
   "source": [
    "# Datetime"
   ]
  },
  {
   "cell_type": "code",
   "execution_count": 17,
   "metadata": {},
   "outputs": [
    {
     "name": "stdout",
     "output_type": "stream",
     "text": [
      "2023-02-07 18:29:32.228846\n",
      "7\n",
      "1\n",
      "18:29:32.228846\n",
      "2023-02-07\n",
      "1675783772.228846\n"
     ]
    }
   ],
   "source": [
    "import datetime\n",
    "\n",
    "\n",
    "x = datetime.datetime.now()\n",
    "print(x)\n",
    "print(x.day)\n",
    "print(x.weekday())\n",
    "print(x.time())\n",
    "print(x.date())\n",
    "print(x.timestamp())"
   ]
  },
  {
   "cell_type": "code",
   "execution_count": 11,
   "metadata": {},
   "outputs": [
    {
     "name": "stdout",
     "output_type": "stream",
     "text": [
      "3\n"
     ]
    }
   ],
   "source": [
    "easy_date = datetime.datetime(2023, 3, 8)\n",
    "\n",
    "print(easy_date.month)"
   ]
  },
  {
   "cell_type": "code",
   "execution_count": 20,
   "metadata": {},
   "outputs": [
    {
     "name": "stdout",
     "output_type": "stream",
     "text": [
      "13\n"
     ]
    }
   ],
   "source": [
    "my_time = '2020-05-17 13:27:51'\n",
    "# my_time = '2023-02-07 18:12:30.771689'\n",
    "\n",
    "my_date = datetime.datetime.fromisoformat(my_time)\n",
    "# my_date = datetime.datetime.strptime(my_time, '%Y-%m-%d %H.%M.%S')\n",
    "print(my_date.hour)"
   ]
  },
  {
   "attachments": {},
   "cell_type": "markdown",
   "metadata": {},
   "source": [
    "https://docs.python.org/3/library/datetime.html#strftime-and-strptime-format-codes"
   ]
  },
  {
   "cell_type": "code",
   "execution_count": 23,
   "metadata": {},
   "outputs": [
    {
     "name": "stdout",
     "output_type": "stream",
     "text": [
      "17 of May of the year 2020\n"
     ]
    }
   ],
   "source": [
    "print(my_date.strftime('%d of %B of the year %Y'))"
   ]
  }
 ],
 "metadata": {
  "kernelspec": {
   "display_name": "venv",
   "language": "python",
   "name": "python3"
  },
  "language_info": {
   "codemirror_mode": {
    "name": "ipython",
    "version": 3
   },
   "file_extension": ".py",
   "mimetype": "text/x-python",
   "name": "python",
   "nbconvert_exporter": "python",
   "pygments_lexer": "ipython3",
   "version": "3.10.6 (main, Nov 14 2022, 16:10:14) [GCC 11.3.0]"
  },
  "orig_nbformat": 4,
  "vscode": {
   "interpreter": {
    "hash": "934c0b5c8495c995e4e9bb089009b226fdc06a8e1cbef8b3aa4617ba323c6fd0"
   }
  }
 },
 "nbformat": 4,
 "nbformat_minor": 2
}
