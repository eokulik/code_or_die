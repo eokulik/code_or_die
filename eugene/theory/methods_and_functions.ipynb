{
 "cells": [
  {
   "cell_type": "markdown",
   "metadata": {},
   "source": [
    "round()"
   ]
  },
  {
   "cell_type": "code",
   "execution_count": 4,
   "metadata": {},
   "outputs": [
    {
     "name": "stdout",
     "output_type": "stream",
     "text": [
      "3.33333\n"
     ]
    }
   ],
   "source": [
    "print(round(10/3, 5))"
   ]
  },
  {
   "cell_type": "markdown",
   "metadata": {},
   "source": [
    "abs()"
   ]
  },
  {
   "cell_type": "code",
   "execution_count": 5,
   "metadata": {},
   "outputs": [
    {
     "name": "stdout",
     "output_type": "stream",
     "text": [
      "1\n"
     ]
    }
   ],
   "source": [
    "print(abs(-1))"
   ]
  },
  {
   "cell_type": "markdown",
   "metadata": {},
   "source": [
    "Модуль random"
   ]
  },
  {
   "cell_type": "code",
   "execution_count": 66,
   "metadata": {},
   "outputs": [
    {
     "name": "stdout",
     "output_type": "stream",
     "text": [
      "47.40485478997353\n",
      "85\n",
      "99\n",
      "67\n"
     ]
    }
   ],
   "source": [
    "# import random\n",
    "\n",
    "print(random.random()*100)\n",
    "print(random.randint(-1, 100))\n",
    "print(random.randrange(-1, 100, 20))\n",
    "print(random.randrange(100))"
   ]
  },
  {
   "cell_type": "code",
   "execution_count": 104,
   "metadata": {},
   "outputs": [
    {
     "name": "stdout",
     "output_type": "stream",
     "text": [
      "59.64608797109967\n",
      "59\n",
      "-1\n",
      "78\n",
      "1\n"
     ]
    }
   ],
   "source": [
    "from random import randint, randrange, random, choice\n",
    "\n",
    "print(random()*100)  # Генерит рандомное число (float) от 0 до 1\n",
    "print(randint(-1, 100))  # Генерит рандомное число в заданном диапазоне (-1 и 100 включительно)\n",
    "print(randrange(-1, 100, 20))  # генерит число в заданном диапазоне (100 не включительно), третьим параметром можно добавить шаг\n",
    "print(randrange(100))\n",
    "my_list = [1, 5, 8, 12, 'hello']\n",
    "print(choice(my_list))  # Выбирает из вариантов, находящихся внутри списка"
   ]
  },
  {
   "cell_type": "code",
   "execution_count": 103,
   "metadata": {},
   "outputs": [
    {
     "name": "stdout",
     "output_type": "stream",
     "text": [
      "ifmjnxmqmj\n"
     ]
    }
   ],
   "source": [
    "'''\n",
    "Пример использования рандома для генерации случайного набора символов\n",
    "'''\n",
    "\n",
    "import string\n",
    "letters = string.ascii_lowercase\n",
    "result_str = ''.join(choice(letters) for i in range(10))\n",
    "print(result_str)"
   ]
  },
  {
   "cell_type": "markdown",
   "metadata": {},
   "source": [
    "Модуль math"
   ]
  },
  {
   "cell_type": "code",
   "execution_count": 78,
   "metadata": {},
   "outputs": [
    {
     "name": "stdout",
     "output_type": "stream",
     "text": [
      "Корень числа 9: 3.0\n",
      "Корень числа 10: 3.1622776601683795\n",
      "Факториал числа 3: 6\n",
      "Число Пи: 3.141592653589793\n"
     ]
    }
   ],
   "source": [
    "import math\n",
    "\n",
    "print('Корень числа 9:', math.sqrt(9))\n",
    "print('Корень числа 10:', math.sqrt(10))\n",
    "print('Факториал числа 3:', math.factorial(3))\n",
    "print('Число Пи:', math.pi)"
   ]
  },
  {
   "cell_type": "code",
   "execution_count": 79,
   "metadata": {},
   "outputs": [
    {
     "name": "stdout",
     "output_type": "stream",
     "text": [
      "====================\n",
      "text\n",
      "====================\n"
     ]
    }
   ],
   "source": [
    "my_string = 'S' * 3 + 'd' * 2 # 'SSSdd'\n",
    "print('=' * 20)\n",
    "print('text')\n",
    "print('=' * 20)"
   ]
  },
  {
   "cell_type": "markdown",
   "metadata": {},
   "source": [
    "sort()"
   ]
  },
  {
   "cell_type": "code",
   "execution_count": 105,
   "metadata": {},
   "outputs": [
    {
     "name": "stdout",
     "output_type": "stream",
     "text": [
      "[1, 2, 3, 10, 11, 12, 20]\n",
      "[1, 2, 20, 3, 10, 11, 12]\n",
      "[1, 2, 3, 10, 11, 12, 20]\n"
     ]
    }
   ],
   "source": [
    "l = [1, 2, 20, 3, 10, 11, 12]\n",
    "print(sorted(l))  # Сам список не изменяется\n",
    "# l = sorted(l)\n",
    "print(l)\n",
    "l.sort()  # Изменяет порядок элементов внутри списка\n",
    "print(l)"
   ]
  },
  {
   "cell_type": "markdown",
   "metadata": {},
   "source": [
    "Статистика"
   ]
  },
  {
   "cell_type": "code",
   "execution_count": 84,
   "metadata": {},
   "outputs": [
    {
     "name": "stdout",
     "output_type": "stream",
     "text": [
      "max() 970\n",
      "min() 100\n",
      "sum() 3335\n",
      "avg 476.42857142857144\n"
     ]
    }
   ],
   "source": [
    "array = [100, 300, 750, 430, 230, 555, 970]\n",
    "\n",
    "print(\"max()\", max(array)) # max() 970\n",
    "print(\"min()\", min(array)) # min() 100\n",
    "print(\"sum()\", sum(array)) # sum() 3335\n",
    "print('avg', sum(array)/len(array))"
   ]
  },
  {
   "cell_type": "markdown",
   "metadata": {},
   "source": [
    "enumerate()"
   ]
  },
  {
   "cell_type": "code",
   "execution_count": 88,
   "metadata": {},
   "outputs": [
    {
     "name": "stdout",
     "output_type": "stream",
     "text": [
      "1 20\n",
      "2 30\n",
      "3 40\n"
     ]
    }
   ],
   "source": [
    "a = [10, 20, 30, 40]\n",
    "\n",
    "for i, numb in enumerate(a):\n",
    "    if i == 0:\n",
    "        continue\n",
    "    print(i, numb)"
   ]
  },
  {
   "cell_type": "markdown",
   "metadata": {},
   "source": [
    "range()"
   ]
  },
  {
   "cell_type": "code",
   "execution_count": 92,
   "metadata": {},
   "outputs": [
    {
     "name": "stdout",
     "output_type": "stream",
     "text": [
      "[0, 1, 2, 3, 4, 5, 6, 7, 8, 9]\n"
     ]
    }
   ],
   "source": [
    "print(list(range(10)))\n",
    "for i in range(1, 101):\n",
    "    if i % 3 == 0:\n",
    "        pass"
   ]
  },
  {
   "cell_type": "markdown",
   "metadata": {},
   "source": [
    "Функции all() и any()"
   ]
  },
  {
   "cell_type": "code",
   "execution_count": 101,
   "metadata": {},
   "outputs": [
    {
     "name": "stdout",
     "output_type": "stream",
     "text": [
      "True\n",
      "False\n",
      "[False, True, True, True, True]\n"
     ]
    },
    {
     "ename": "AssertionError",
     "evalue": "Not all the i were > 0",
     "output_type": "error",
     "traceback": [
      "\u001b[0;31m---------------------------------------------------------------------------\u001b[0m",
      "\u001b[0;31mAssertionError\u001b[0m                            Traceback (most recent call last)",
      "\u001b[0;32m/tmp/ipykernel_116300/3195532226.py\u001b[0m in \u001b[0;36m<module>\u001b[0;34m\u001b[0m\n\u001b[1;32m      5\u001b[0m     \u001b[0mresults\u001b[0m\u001b[0;34m.\u001b[0m\u001b[0mappend\u001b[0m\u001b[0;34m(\u001b[0m\u001b[0mi\u001b[0m \u001b[0;34m>\u001b[0m \u001b[0;36m0\u001b[0m\u001b[0;34m)\u001b[0m\u001b[0;34m\u001b[0m\u001b[0;34m\u001b[0m\u001b[0m\n\u001b[1;32m      6\u001b[0m \u001b[0mprint\u001b[0m\u001b[0;34m(\u001b[0m\u001b[0mresults\u001b[0m\u001b[0;34m)\u001b[0m\u001b[0;34m\u001b[0m\u001b[0;34m\u001b[0m\u001b[0m\n\u001b[0;32m----> 7\u001b[0;31m \u001b[0;32massert\u001b[0m \u001b[0mall\u001b[0m\u001b[0;34m(\u001b[0m\u001b[0mresults\u001b[0m\u001b[0;34m)\u001b[0m\u001b[0;34m,\u001b[0m \u001b[0;34m'Not all the i were > 0'\u001b[0m\u001b[0;34m\u001b[0m\u001b[0;34m\u001b[0m\u001b[0m\n\u001b[0m",
      "\u001b[0;31mAssertionError\u001b[0m: Not all the i were > 0"
     ]
    }
   ],
   "source": [
    "print(all([True, 5, 3.5, 'String'])) # True\n",
    "print(any([False, None, 0, \"\"])) # False\n",
    "results = []\n",
    "for i in range(0, 5):\n",
    "    results.append(i > 0)\n",
    "print(results)\n",
    "assert all(results), 'Not all the i were > 0'\n",
    "assert any(results), 'All the i were <= 0'"
   ]
  },
  {
   "cell_type": "markdown",
   "metadata": {},
   "source": [
    "# Виртуальное окружение"
   ]
  },
  {
   "cell_type": "markdown",
   "metadata": {},
   "source": [
    "### Для чего\n",
    "В каждом проекте (приложении), которое вы разрабатываете есть свои зависимости.  Если у вас в работе находится больше чем одно такое приложение, то есть вероятность того, что эти приложения будут пользоваться одинаковыми библиотеками (модулями), но разными их версиями. Поэтому, есть смысл устанавливать сторонние модули не для всех программ сразу, а только для программы, для которой этот модуль необходим."
   ]
  },
  {
   "cell_type": "markdown",
   "metadata": {},
   "source": [
    "### Создание виртуального окружения\n",
    "Виртуальное окружение - это папка, в которой хранятся те модули, которые нужны вашей программе.   \n",
    "Создание этой папки происходит с помощью специальной утилиты, входящей в состав Python. Для его создания нужно в терминале перейти в папку, являющуюся корневой для вашего проекта и выполнить там следующее:"
   ]
  },
  {
   "cell_type": "code",
   "execution_count": null,
   "metadata": {
    "vscode": {
     "languageId": "shellscript"
    }
   },
   "outputs": [],
   "source": [
    "python3 -m venv <venv>"
   ]
  },
  {
   "cell_type": "markdown",
   "metadata": {},
   "source": [
    "Вместо <venv> нужно подставить имя, которым вы хотите назвать вашу папку с виртуальным окружением. Обычно эту папку называют \"venv\""
   ]
  },
  {
   "cell_type": "markdown",
   "metadata": {},
   "source": [
    "### Переход внутрь виртуального окружения (активация)\n",
    "При работе в терминале компьютера (не пайчарма) если вы выполните какую-то питон программу, то все модули, необходимые для этой программы будут искаться в стандартных библиотеках компьютера. Для того, чтобы вместо этого поиск модулей происходил внутри виртуального окружения - его нужно активировать. Для этого перейдите в корневую папку проекта и выполните:"
   ]
  },
  {
   "cell_type": "code",
   "execution_count": null,
   "metadata": {
    "vscode": {
     "languageId": "shellscript"
    }
   },
   "outputs": [],
   "source": [
    "source venv/bin/activate"
   ]
  },
  {
   "cell_type": "markdown",
   "metadata": {},
   "source": [
    "В итоге этой операции строка приглашения вашего терминала изменится и будет выглядеть как-то так:"
   ]
  },
  {
   "cell_type": "code",
   "execution_count": null,
   "metadata": {
    "vscode": {
     "languageId": "shellscript"
    }
   },
   "outputs": [],
   "source": [
    "(venv) eugene@pop-os:~/projects/code_or_die$"
   ]
  },
  {
   "cell_type": "markdown",
   "metadata": {},
   "source": [
    "Т.е. в начале приглашения появится название вашей папки в скобках"
   ]
  },
  {
   "cell_type": "markdown",
   "metadata": {},
   "source": [
    "#### Pycharm\n",
    "Для того, чтобы сделать так, чтобы пайчарм использовал виртуальное окружение можно пойти в настройки (File -> Settings), найти там ваш проект, выбрать его и кликнуть Python Interpreter, в открывшемся окне нажать шестеренку и выбрать Add. В окне \"Add Python Interpreter\" выбрать радиобаттон Existing environment, кликнуть копку \"...\" и выбрать там путь до питона, находящегося внутри вашей папки с виртуальным окружением. У меня этот путь выглядит так: /home/eugene/projects/code_or_die/venv/bin/python"
   ]
  }
 ],
 "metadata": {
  "kernelspec": {
   "display_name": "Python 3.10.6 64-bit",
   "language": "python",
   "name": "python3"
  },
  "language_info": {
   "codemirror_mode": {
    "name": "ipython",
    "version": 3
   },
   "file_extension": ".py",
   "mimetype": "text/x-python",
   "name": "python",
   "nbconvert_exporter": "python",
   "pygments_lexer": "ipython3",
   "version": "3.10.6"
  },
  "orig_nbformat": 4,
  "vscode": {
   "interpreter": {
    "hash": "916dbcbb3f70747c44a77c7bcd40155683ae19c65e1c03b4aa3499c5328201f1"
   }
  }
 },
 "nbformat": 4,
 "nbformat_minor": 2
}
