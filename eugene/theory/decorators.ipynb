{
 "cells": [
  {
   "attachments": {},
   "cell_type": "markdown",
   "metadata": {},
   "source": [
    "Decorators"
   ]
  },
  {
   "cell_type": "code",
   "execution_count": 2,
   "metadata": {},
   "outputs": [
    {
     "name": "stdout",
     "output_type": "stream",
     "text": [
      "<function my_func at 0x7fc62847c430>\n",
      "7\n"
     ]
    }
   ],
   "source": [
    "def my_func(x):\n",
    "    return x + 2\n",
    "\n",
    "fun_name = my_func\n",
    "print(fun_name)\n",
    "print(fun_name(5))"
   ]
  },
  {
   "cell_type": "code",
   "execution_count": 3,
   "metadata": {},
   "outputs": [
    {
     "name": "stdout",
     "output_type": "stream",
     "text": [
      "hello\n"
     ]
    }
   ],
   "source": [
    "def my_func2():\n",
    "\n",
    "    def hello():\n",
    "        return 'hello'\n",
    "\n",
    "    print(hello())\n",
    "\n",
    "my_func2()"
   ]
  },
  {
   "attachments": {},
   "cell_type": "markdown",
   "metadata": {},
   "source": [
    "Функция my_func3 возвращает тело функции hello Результат вызова функции my_func3() - тело функции hello Для того, чтобы это тело было выполнено, нужно поставить дополнительные скобки или сохранить результат работы my_func3() в переменную и обратиться к переменной как к функции (т.е. со скобками)"
   ]
  },
  {
   "cell_type": "code",
   "execution_count": 5,
   "metadata": {},
   "outputs": [
    {
     "name": "stdout",
     "output_type": "stream",
     "text": [
      "<function my_func3.<locals>.hello at 0x7fc62b5bbeb0>\n",
      "hello\n"
     ]
    }
   ],
   "source": [
    "def my_func3():\n",
    "\n",
    "    def hello():\n",
    "        return 'hello'\n",
    "\n",
    "    return hello\n",
    "\n",
    "\n",
    "print(my_func3())\n",
    "print(my_func3()())\n",
    "\n",
    "    "
   ]
  },
  {
   "attachments": {},
   "cell_type": "markdown",
   "metadata": {},
   "source": [
    "Мы можем передать функцию на вход другой функции в качестве аргумента. В таком случае, можно будет использовать переданную функцию (simple) внутри функции получателя (my_func4)"
   ]
  },
  {
   "cell_type": "code",
   "execution_count": 11,
   "metadata": {},
   "outputs": [
    {
     "name": "stdout",
     "output_type": "stream",
     "text": [
      "one\n",
      "simple\n",
      "two\n",
      "<function simple at 0x7fc6285327a0>\n",
      "simple\n",
      "None\n"
     ]
    }
   ],
   "source": [
    "def my_func4(func_1):\n",
    "    print('one')\n",
    "    func_1()\n",
    "    print('two')\n",
    "\n",
    "def simple():\n",
    "    print('simple')\n",
    "\n",
    "my_func4(simple)\n",
    "print(simple)\n",
    "print(simple())"
   ]
  },
  {
   "cell_type": "code",
   "execution_count": 13,
   "metadata": {},
   "outputs": [
    {
     "name": "stdout",
     "output_type": "stream",
     "text": [
      "<function main_func.<locals>.wrapper at 0x7fc628532b90>\n",
      "before\n",
      "simple\n",
      "after\n"
     ]
    }
   ],
   "source": [
    "def main_func(func_2):\n",
    "\n",
    "    def wrapper():\n",
    "        print('before')\n",
    "        func_2()\n",
    "        print('after')\n",
    "\n",
    "    return wrapper\n",
    "\n",
    "def simple_func():\n",
    "    print('simple')\n",
    "\n",
    "simple_func = main_func(simple_func)\n",
    "print(fun_name)\n",
    "simple_func()"
   ]
  },
  {
   "cell_type": "code",
   "execution_count": 14,
   "metadata": {},
   "outputs": [
    {
     "name": "stdout",
     "output_type": "stream",
     "text": [
      "before\n",
      "simple\n",
      "after\n"
     ]
    }
   ],
   "source": [
    "def main_func(func_2):\n",
    "\n",
    "    def wrapper():\n",
    "        print('before')\n",
    "        func_2()\n",
    "        print('after')\n",
    "\n",
    "    return wrapper\n",
    "\n",
    "@main_func\n",
    "def simple_func():\n",
    "    print('simple')\n",
    "\n",
    "simple_func()"
   ]
  },
  {
   "attachments": {},
   "cell_type": "markdown",
   "metadata": {},
   "source": [
    "Если в функцию нужно передать аргументы, то эти же аргументы должны быть добавлены в функцию-обертку."
   ]
  },
  {
   "cell_type": "code",
   "execution_count": 16,
   "metadata": {},
   "outputs": [
    {
     "name": "stdout",
     "output_type": "stream",
     "text": [
      "7\n"
     ]
    }
   ],
   "source": [
    "def my_dec(func_3):\n",
    "\n",
    "    def wrapper(x, y):\n",
    "        x = x ** 2\n",
    "        func_3(x, y)\n",
    "\n",
    "    return wrapper\n",
    "\n",
    "@my_dec\n",
    "def calc(x, y):\n",
    "    print(x + y)\n",
    "\n",
    "calc(2, 5)"
   ]
  },
  {
   "attachments": {},
   "cell_type": "markdown",
   "metadata": {},
   "source": [
    "Если мы делаем какой-то универсальный декоратор, то в функцию-обертку нам нужно добавить *args - тогда эта функция сможет работать с любой функцией, с любым количеством аргументов."
   ]
  },
  {
   "cell_type": "code",
   "execution_count": 17,
   "metadata": {},
   "outputs": [
    {
     "name": "stdout",
     "output_type": "stream",
     "text": [
      "Hello user!\n",
      "7\n",
      "Hello user!\n",
      "Masha\n"
     ]
    }
   ],
   "source": [
    "def my_dec(func):\n",
    "\n",
    "    def wrapper(*args):\n",
    "        print('Hello user!')\n",
    "        func(*args)\n",
    "\n",
    "    return wrapper\n",
    "\n",
    "\n",
    "@my_dec\n",
    "def calc(x, y):\n",
    "    print(x + y)\n",
    "\n",
    "\n",
    "@my_dec\n",
    "def print_name(name):\n",
    "    print(name)\n",
    "\n",
    "calc(2, 5)\n",
    "print_name('Masha')"
   ]
  },
  {
   "cell_type": "code",
   "execution_count": 26,
   "metadata": {},
   "outputs": [
    {
     "name": "stdout",
     "output_type": "stream",
     "text": [
      "asd: (12, 'dfg', True)\n",
      "unpacked:  12 dfg True\n",
      "qwe: ((12, 'dfg', True),)\n",
      "qwe: (12, 'dfg', True)\n"
     ]
    }
   ],
   "source": [
    "def qwe(*args):\n",
    "    print('qwe:', args)\n",
    "\n",
    "def asd(*args):\n",
    "    print('asd:', args)\n",
    "    print('unpacked: ', *args) # print('unpacked: ', 12, 'dfg', True)\n",
    "    qwe(args)\n",
    "    qwe(*args)\n",
    "\n",
    "\n",
    "\n",
    "asd(12, 'dfg', True)"
   ]
  }
 ],
 "metadata": {
  "kernelspec": {
   "display_name": "venv",
   "language": "python",
   "name": "python3"
  },
  "language_info": {
   "codemirror_mode": {
    "name": "ipython",
    "version": 3
   },
   "file_extension": ".py",
   "mimetype": "text/x-python",
   "name": "python",
   "nbconvert_exporter": "python",
   "pygments_lexer": "ipython3",
   "version": "3.10.6 (main, Nov 14 2022, 16:10:14) [GCC 11.3.0]"
  },
  "orig_nbformat": 4,
  "vscode": {
   "interpreter": {
    "hash": "934c0b5c8495c995e4e9bb089009b226fdc06a8e1cbef8b3aa4617ba323c6fd0"
   }
  }
 },
 "nbformat": 4,
 "nbformat_minor": 2
}
