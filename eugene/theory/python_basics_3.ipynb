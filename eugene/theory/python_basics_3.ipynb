{
 "cells": [
  {
   "cell_type": "markdown",
   "metadata": {},
   "source": [
    "# Строка ←→ список"
   ]
  },
  {
   "cell_type": "code",
   "execution_count": 5,
   "metadata": {},
   "outputs": [
    {
     "name": "stdout",
     "output_type": "stream",
     "text": [
      "['some', 'little', 'text']\n",
      "['some', 'little', 'text']\n",
      "one, two, three\n"
     ]
    }
   ],
   "source": [
    "my_string = 'some little text'\n",
    "my_string2 = 'some, little, text'\n",
    "my_list = ['one', 'two', 'three']\n",
    "list_from_text = my_string.split()\n",
    "list_from_text2 = my_string2.split(', ')\n",
    "print(list_from_text)\n",
    "print(list_from_text2)\n",
    "string_from_list = ', '.join(my_list)\n",
    "print(string_from_list)"
   ]
  },
  {
   "cell_type": "markdown",
   "metadata": {},
   "source": [
    "# Форматирование строки"
   ]
  },
  {
   "cell_type": "code",
   "execution_count": 15,
   "metadata": {},
   "outputs": [
    {
     "name": "stdout",
     "output_type": "stream",
     "text": [
      "Hello Tom! Today is tuesday. The weather is fine\n",
      "Hello Tom! Today is tuesday. The weather is fine\n",
      "Hello Tom! Today is tuesday. The weather is fine\n"
     ]
    }
   ],
   "source": [
    "my_text = 'Hello {0}! Today is {2}. The weather is {1}'\n",
    "\n",
    "username = 'Tom'\n",
    "my_text = 'Hello %s!'\n",
    "print(my_text % username)\n",
    "\n",
    "wheather = 'fine'\n",
    "today = 'tuesday'\n",
    "my_text = 'Hello {0}! Today is {2}. The weather is {1}'\n",
    "print(my_text.format(username, wheather, today))\n",
    "\n",
    "print(f'Hello {username}! Today is {today}. The weather is {wheather}')\n",
    "\n",
    "my_text = f'Hello {username}! Today is {today}. The weather is {wheather}'\n",
    "print(my_text)"
   ]
  },
  {
   "cell_type": "markdown",
   "metadata": {},
   "source": [
    "# Условия"
   ]
  },
  {
   "cell_type": "code",
   "execution_count": 25,
   "metadata": {},
   "outputs": [
    {
     "name": "stdout",
     "output_type": "stream",
     "text": [
      "more than 0\n"
     ]
    }
   ],
   "source": [
    "my_var = 1\n",
    "if my_var > 0:\n",
    "    print('more than 0')\n",
    "elif my_var < 0:\n",
    "    print('less than 0')\n",
    "elif my_var == 0:\n",
    "    print('is 0')\n",
    "else:\n",
    "    print('not a number')"
   ]
  },
  {
   "cell_type": "markdown",
   "metadata": {},
   "source": [
    "# Цикл for"
   ]
  },
  {
   "cell_type": "code",
   "execution_count": 27,
   "metadata": {},
   "outputs": [
    {
     "name": "stdout",
     "output_type": "stream",
     "text": [
      "John\n",
      "Tom\n",
      "James\n",
      "James\n"
     ]
    }
   ],
   "source": [
    "my_list = ['John', 'Tom', 'James']\n",
    "name = ''\n",
    "for name in my_list:\n",
    "    print(name)\n",
    "\n",
    "print(name)"
   ]
  },
  {
   "cell_type": "code",
   "execution_count": 28,
   "metadata": {},
   "outputs": [
    {
     "name": "stdout",
     "output_type": "stream",
     "text": [
      "John\n",
      "Tom\n",
      "James\n"
     ]
    }
   ],
   "source": [
    "my_tuple = ('John', 'Tom', 'James')\n",
    "\n",
    "for name in my_tuple:\n",
    "    print(name)"
   ]
  },
  {
   "cell_type": "code",
   "execution_count": 29,
   "metadata": {},
   "outputs": [
    {
     "name": "stdout",
     "output_type": "stream",
     "text": [
      "John\n",
      "James\n",
      "Tom\n"
     ]
    }
   ],
   "source": [
    "my_set = {'John', 'Tom', 'James'}\n",
    "\n",
    "for name in my_set:\n",
    "    print(name)"
   ]
  },
  {
   "cell_type": "code",
   "execution_count": 30,
   "metadata": {},
   "outputs": [
    {
     "name": "stdout",
     "output_type": "stream",
     "text": [
      "John\n",
      "Tom\n",
      "James\n"
     ]
    }
   ],
   "source": [
    "my_dict = {'John': 132, 'Tom': 167, 'James': 234}\n",
    "\n",
    "for name in my_dict:\n",
    "    print(name)"
   ]
  },
  {
   "cell_type": "code",
   "execution_count": 38,
   "metadata": {},
   "outputs": [
    {
     "name": "stdout",
     "output_type": "stream",
     "text": [
      "User Tom has height 167\n",
      "User James has height 234\n"
     ]
    }
   ],
   "source": [
    "my_dict = {'John': 132, 'Tom': 167, 'James': 234}\n",
    "\n",
    "for name, height in my_dict.items():\n",
    "    if height > 150:\n",
    "        print(f'User {name} has height {height}')"
   ]
  },
  {
   "cell_type": "code",
   "execution_count": 37,
   "metadata": {},
   "outputs": [
    {
     "name": "stdout",
     "output_type": "stream",
     "text": [
      "132\n",
      "167\n",
      "234\n"
     ]
    }
   ],
   "source": [
    "my_dict = {'John': 132, 'Tom': 167, 'James': 234}\n",
    "\n",
    "for height in my_dict.values():\n",
    "    print(height)"
   ]
  },
  {
   "cell_type": "markdown",
   "metadata": {},
   "source": [
    "# Цикл while"
   ]
  },
  {
   "cell_type": "code",
   "execution_count": 39,
   "metadata": {},
   "outputs": [
    {
     "name": "stdout",
     "output_type": "stream",
     "text": [
      "1\n",
      "2\n",
      "3\n",
      "4\n",
      "5\n",
      "6\n",
      "7\n",
      "8\n",
      "9\n"
     ]
    }
   ],
   "source": [
    "my_var = 1\n",
    "while my_var < 10:\n",
    "    print(my_var)\n",
    "    my_var += 1"
   ]
  },
  {
   "cell_type": "code",
   "execution_count": null,
   "metadata": {},
   "outputs": [],
   "source": [
    "it_is_summer = False\n",
    "\n",
    "while it_is_summer is False:\n",
    "    date = 'Lets imagine we get current date here'\n",
    "    if date >= '01.06.2023':\n",
    "        it_is_summer = True\n"
   ]
  },
  {
   "cell_type": "code",
   "execution_count": 40,
   "metadata": {},
   "outputs": [
    {
     "name": "stdout",
     "output_type": "stream",
     "text": [
      "1\n",
      "2\n",
      "3\n",
      "4\n",
      "5\n",
      "6\n",
      "7\n"
     ]
    }
   ],
   "source": [
    "i = 0\n",
    "\n",
    "while True:\n",
    "    i += 1\n",
    "    print(i)\n",
    "    if i >= 7:\n",
    "        break"
   ]
  },
  {
   "cell_type": "code",
   "execution_count": 41,
   "metadata": {},
   "outputs": [
    {
     "name": "stdout",
     "output_type": "stream",
     "text": [
      "1\n",
      "2\n",
      "3\n",
      "4\n",
      "6\n",
      "7\n"
     ]
    }
   ],
   "source": [
    "i = 0\n",
    "\n",
    "while True:\n",
    "    i += 1\n",
    "    if i == 5:\n",
    "        continue\n",
    "    print(i)\n",
    "    if i >= 7:\n",
    "        break"
   ]
  },
  {
   "cell_type": "code",
   "execution_count": 49,
   "metadata": {},
   "outputs": [],
   "source": [
    "var_bool = False\n",
    "var_int = 0\n",
    "var_str = ''\n",
    "var = None\n",
    "\n",
    "if var_int:\n",
    "    print('!!!')\n",
    "    \n",
    "# ==\n",
    "if var_int != 0 and var_int != '' and var_int is not False and var_int is not None\n",
    "\n",
    "\n",
    "if not var_int:\n",
    "    print('!!!')\n",
    "# ==\n",
    "if var_int == 0 and var_int == '' and var_int is False and var_int is None"
   ]
  }
 ],
 "metadata": {
  "kernelspec": {
   "display_name": "Python 3.10.6 64-bit",
   "language": "python",
   "name": "python3"
  },
  "language_info": {
   "codemirror_mode": {
    "name": "ipython",
    "version": 3
   },
   "file_extension": ".py",
   "mimetype": "text/x-python",
   "name": "python",
   "nbconvert_exporter": "python",
   "pygments_lexer": "ipython3",
   "version": "3.10.6"
  },
  "orig_nbformat": 4,
  "vscode": {
   "interpreter": {
    "hash": "916dbcbb3f70747c44a77c7bcd40155683ae19c65e1c03b4aa3499c5328201f1"
   }
  }
 },
 "nbformat": 4,
 "nbformat_minor": 2
}
