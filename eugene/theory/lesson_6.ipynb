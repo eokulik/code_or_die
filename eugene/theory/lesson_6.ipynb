{
 "cells": [
  {
   "attachments": {},
   "cell_type": "markdown",
   "metadata": {},
   "source": [
    "# Функции генераторы"
   ]
  },
  {
   "cell_type": "code",
   "execution_count": 3,
   "metadata": {},
   "outputs": [
    {
     "name": "stdout",
     "output_type": "stream",
     "text": [
      "<generator object my_generator at 0x7f3d68ae5ee0>\n",
      "1\n",
      "2\n",
      "3\n",
      "4\n",
      "5\n",
      "7\n",
      "9\n",
      "[1, 2, 3, 4, 5, 7, 9]\n"
     ]
    }
   ],
   "source": [
    "# классическая функция\n",
    "def my_funct():\n",
    "    result = 1 + 2\n",
    "    return result\n",
    "\n",
    "# функция генератор\n",
    "def my_generator():\n",
    "    my_list = [1, 2, 3, 4, 5, 7, 9]\n",
    "    for elem in my_list:\n",
    "        yield elem\n",
    "\n",
    "print(my_generator())\n",
    "for x in my_generator():\n",
    "    print(x)\n",
    "\n",
    "print(list(my_generator()))"
   ]
  },
  {
   "cell_type": "code",
   "execution_count": 5,
   "metadata": {},
   "outputs": [
    {
     "name": "stdout",
     "output_type": "stream",
     "text": [
      "(0, 1)\n",
      "(1, 0)\n",
      "(2, 9)\n",
      "(3, 16)\n",
      "(4, 25)\n",
      "(5, 49)\n",
      "(6, 81)\n",
      "[(0, 1), (1, 0), (2, 9), (3, 16), (4, 25), (5, 49), (6, 81)]\n",
      "{0: 1, 1: 0, 2: 9, 3: 16, 4: 25, 5: 49, 6: 81}\n"
     ]
    }
   ],
   "source": [
    "my_list = [1, 2, 3, 4, 5, 7, 9]\n",
    "\n",
    "def my_generator(spisok):\n",
    "    for i, elem in enumerate(spisok):\n",
    "        if elem > 2:\n",
    "            elem = elem * elem\n",
    "        elif elem == 2:\n",
    "            elem = 0\n",
    "        yield i, elem\n",
    "\n",
    "for x in my_generator(my_list):\n",
    "    print(x)\n",
    "\n",
    "print(list(my_generator(my_list)))\n",
    "print(dict(my_generator(my_list)))"
   ]
  },
  {
   "attachments": {},
   "cell_type": "markdown",
   "metadata": {},
   "source": [
    "# Exceptions"
   ]
  },
  {
   "cell_type": "code",
   "execution_count": 8,
   "metadata": {},
   "outputs": [
    {
     "data": {
      "text/plain": [
       "1.0"
      ]
     },
     "execution_count": 8,
     "metadata": {},
     "output_type": "execute_result"
    }
   ],
   "source": [
    "def my_fun2(x, y):\n",
    "    if y == 0:\n",
    "        print('idi lesom')\n",
    "    else:\n",
    "        return x / y\n",
    "\n",
    "my_fun2(1, 1)"
   ]
  },
  {
   "cell_type": "code",
   "execution_count": 16,
   "metadata": {},
   "outputs": [
    {
     "ename": "KeyboardInterrupt",
     "evalue": "",
     "output_type": "error",
     "traceback": [
      "\u001b[0;31m---------------------------------------------------------------------------\u001b[0m",
      "\u001b[0;31mKeyboardInterrupt\u001b[0m                         Traceback (most recent call last)",
      "Cell \u001b[0;32mIn[16], line 11\u001b[0m\n\u001b[1;32m      8\u001b[0m         \u001b[39mraise\u001b[39;00m err\n\u001b[1;32m      9\u001b[0m     \u001b[39mreturn\u001b[39;00m result\n\u001b[0;32m---> 11\u001b[0m my_fun2(\u001b[39m1\u001b[39;49m, \u001b[39m0\u001b[39;49m)\n",
      "Cell \u001b[0;32mIn[16], line 4\u001b[0m, in \u001b[0;36mmy_fun2\u001b[0;34m(x, y)\u001b[0m\n\u001b[1;32m      2\u001b[0m \u001b[39mdef\u001b[39;00m \u001b[39mmy_fun2\u001b[39m(x, y):\n\u001b[1;32m      3\u001b[0m     \u001b[39mtry\u001b[39;00m:\n\u001b[0;32m----> 4\u001b[0m         sleep(\u001b[39m5\u001b[39;49m)\n\u001b[1;32m      5\u001b[0m         result \u001b[39m=\u001b[39m x \u001b[39m/\u001b[39m y\n\u001b[1;32m      6\u001b[0m     \u001b[39mexcept\u001b[39;00m \u001b[39mZeroDivisionError\u001b[39;00m \u001b[39mas\u001b[39;00m err:\n",
      "\u001b[0;31mKeyboardInterrupt\u001b[0m: "
     ]
    }
   ],
   "source": [
    "from time import sleep\n",
    "def my_fun2(x, y):\n",
    "    try:\n",
    "        sleep(5)\n",
    "        result = x / y\n",
    "    except ZeroDivisionError as err:\n",
    "        print('x and y was: ', x, y)\n",
    "        raise err\n",
    "    return result\n",
    "\n",
    "my_fun2(1, 0)"
   ]
  },
  {
   "cell_type": "code",
   "execution_count": 12,
   "metadata": {},
   "outputs": [
    {
     "ename": "ZeroDivisionError",
     "evalue": "",
     "output_type": "error",
     "traceback": [
      "\u001b[0;31m---------------------------------------------------------------------------\u001b[0m",
      "\u001b[0;31mZeroDivisionError\u001b[0m                         Traceback (most recent call last)",
      "Cell \u001b[0;32mIn[12], line 4\u001b[0m\n\u001b[1;32m      1\u001b[0m \u001b[39mdef\u001b[39;00m \u001b[39mqqq\u001b[39m():\n\u001b[1;32m      2\u001b[0m     \u001b[39mraise\u001b[39;00m \u001b[39mZeroDivisionError\u001b[39;00m\n\u001b[0;32m----> 4\u001b[0m qqq()\n",
      "Cell \u001b[0;32mIn[12], line 2\u001b[0m, in \u001b[0;36mqqq\u001b[0;34m()\u001b[0m\n\u001b[1;32m      1\u001b[0m \u001b[39mdef\u001b[39;00m \u001b[39mqqq\u001b[39m():\n\u001b[0;32m----> 2\u001b[0m     \u001b[39mraise\u001b[39;00m \u001b[39mZeroDivisionError\u001b[39;00m\n",
      "\u001b[0;31mZeroDivisionError\u001b[0m: "
     ]
    }
   ],
   "source": [
    "def qqq():\n",
    "    raise ZeroDivisionError\n",
    "\n",
    "qqq()"
   ]
  },
  {
   "cell_type": "code",
   "execution_count": 20,
   "metadata": {},
   "outputs": [
    {
     "name": "stdout",
     "output_type": "stream",
     "text": [
      "x and y was:  1 0\n"
     ]
    },
    {
     "ename": "UnboundLocalError",
     "evalue": "local variable 'result' referenced before assignment",
     "output_type": "error",
     "traceback": [
      "\u001b[0;31m---------------------------------------------------------------------------\u001b[0m",
      "\u001b[0;31mUnboundLocalError\u001b[0m                         Traceback (most recent call last)",
      "Cell \u001b[0;32mIn[20], line 9\u001b[0m\n\u001b[1;32m      6\u001b[0m         \u001b[39mprint\u001b[39m(\u001b[39m'\u001b[39m\u001b[39mx and y was: \u001b[39m\u001b[39m'\u001b[39m, x, y)\n\u001b[1;32m      7\u001b[0m     \u001b[39mreturn\u001b[39;00m result\n\u001b[0;32m----> 9\u001b[0m my_fun2(\u001b[39m1\u001b[39;49m, \u001b[39m0\u001b[39;49m)\n",
      "Cell \u001b[0;32mIn[20], line 7\u001b[0m, in \u001b[0;36mmy_fun2\u001b[0;34m(x, y)\u001b[0m\n\u001b[1;32m      5\u001b[0m \u001b[39mexcept\u001b[39;00m:\n\u001b[1;32m      6\u001b[0m     \u001b[39mprint\u001b[39m(\u001b[39m'\u001b[39m\u001b[39mx and y was: \u001b[39m\u001b[39m'\u001b[39m, x, y)\n\u001b[0;32m----> 7\u001b[0m \u001b[39mreturn\u001b[39;00m result\n",
      "\u001b[0;31mUnboundLocalError\u001b[0m: local variable 'result' referenced before assignment"
     ]
    }
   ],
   "source": [
    "def my_fun2(x, y):\n",
    "    try:\n",
    "        sleep(5)\n",
    "        result = x / y\n",
    "    except:\n",
    "        print('x and y was: ', x, y)\n",
    "    return result\n",
    "\n",
    "my_fun2(1, 0)"
   ]
  },
  {
   "cell_type": "code",
   "execution_count": 6,
   "metadata": {},
   "outputs": [
    {
     "name": "stdout",
     "output_type": "stream",
     "text": [
      "Stopped\n"
     ]
    }
   ],
   "source": [
    "from time import sleep\n",
    "def my_fun2(x, y):\n",
    "    try:\n",
    "        sleep(5)\n",
    "        result = x / y\n",
    "    except ZeroDivisionError:\n",
    "        print('x and y was: ', x, y)\n",
    "        result = 0\n",
    "    # except KeyboardInterrupt:\n",
    "    #     print('Stopped')\n",
    "    #     return\n",
    "    return result\n",
    "\n",
    "def my_fun1():\n",
    "    n = my_fun2(1, 0)\n",
    "\n",
    "    for i in range(10):\n",
    "        print(i + n)\n",
    "        sleep(1)\n",
    "\n",
    "try:\n",
    "    my_fun1()\n",
    "except KeyboardInterrupt:\n",
    "    print('Stopped')"
   ]
  },
  {
   "cell_type": "code",
   "execution_count": 8,
   "metadata": {},
   "outputs": [
    {
     "name": "stdout",
     "output_type": "stream",
     "text": [
      "abc\n",
      "abc\n"
     ]
    }
   ],
   "source": [
    "pi = 'abc'\n",
    "\n",
    "def inner():\n",
    "    pi = 'xyz'\n",
    "    print(pi)\n",
    "\n",
    "inner()\n",
    "print(pi)"
   ]
  },
  {
   "cell_type": "code",
   "execution_count": 10,
   "metadata": {},
   "outputs": [
    {
     "name": "stdout",
     "output_type": "stream",
     "text": [
      "xyz\n",
      "xyz\n"
     ]
    }
   ],
   "source": [
    "pi = 'abc'\n",
    "\n",
    "def inner():\n",
    "    global pi\n",
    "    pi = 'xyz'\n",
    "    print(pi)\n",
    "\n",
    "inner()\n",
    "print(pi)"
   ]
  },
  {
   "cell_type": "code",
   "execution_count": 14,
   "metadata": {},
   "outputs": [
    {
     "data": {
      "text/plain": [
       "3"
      ]
     },
     "execution_count": 14,
     "metadata": {},
     "output_type": "execute_result"
    }
   ],
   "source": [
    "def my(x):\n",
    "    return x * 3\n",
    "\n",
    "my = lambda x: x * 3"
   ]
  },
  {
   "attachments": {},
   "cell_type": "markdown",
   "metadata": {},
   "source": [
    "# map\n",
    "применение операции к каждому элементу"
   ]
  },
  {
   "cell_type": "code",
   "execution_count": 2,
   "metadata": {},
   "outputs": [
    {
     "name": "stdout",
     "output_type": "stream",
     "text": [
      "[1, 4, 9, 16]\n"
     ]
    }
   ],
   "source": [
    "L = [1, 2, 3, 4]\n",
    "\n",
    "D = []\n",
    "for x in L:\n",
    "    D.append(x**2)\n",
    "\n",
    "print(D)"
   ]
  },
  {
   "cell_type": "code",
   "execution_count": 3,
   "metadata": {},
   "outputs": [
    {
     "name": "stdout",
     "output_type": "stream",
     "text": [
      "1\n",
      "4\n",
      "9\n",
      "16\n",
      "[1, 4, 9, 16]\n",
      "[1, 4, 9, 16]\n"
     ]
    }
   ],
   "source": [
    "new = list(map(lambda x: x**2, L))\n",
    "for x in new:\n",
    "    print(x)\n",
    "print(new)\n",
    "\n",
    "\n",
    "def sqrt(x):\n",
    "    x = x + 1\n",
    "    return x**2\n",
    "\n",
    "\n",
    "new = list(map(sqrt, L))\n",
    "print(new)"
   ]
  },
  {
   "cell_type": "code",
   "execution_count": 22,
   "metadata": {},
   "outputs": [
    {
     "name": "stdout",
     "output_type": "stream",
     "text": [
      "dfgdfg\n",
      "dsfdfsdfsf\n",
      "sdfdfdfgdfg\n",
      "sdfsdf\n",
      "['dfgdfg', 'dsfdfsdfsf', 'sdfdfdfgdfg', 'sdfsdf']\n"
     ]
    }
   ],
   "source": [
    "T = ['dfgdfg ', 'dsfdf sdfsf', 'sdfdf,dfgdfg', 'sdfsdf']\n",
    "\n",
    "def format_text(x):\n",
    "    x = x.replace(' ', '')\n",
    "    x = x.replace(',', '')\n",
    "    return x\n",
    "\n",
    "new = list(map(format_text, T))\n",
    "for x in new:\n",
    "    print(x)\n",
    "print(new)"
   ]
  },
  {
   "attachments": {},
   "cell_type": "markdown",
   "metadata": {},
   "source": [
    "Filter"
   ]
  },
  {
   "cell_type": "code",
   "execution_count": 6,
   "metadata": {},
   "outputs": [
    {
     "name": "stdout",
     "output_type": "stream",
     "text": [
      "[1, 2]\n",
      "[1, 2]\n",
      "<filter object at 0x7fdde2f34c70>\n",
      "1\n",
      "2\n"
     ]
    }
   ],
   "source": [
    "L = [1, 2, 3, 4]\n",
    "L_NEW = []\n",
    "for x in L:\n",
    "    if x < 3:\n",
    "        L_NEW.append(x)\n",
    "\n",
    "def ok(x):\n",
    "    if x < 3:\n",
    "        return True\n",
    "    return False\n",
    "\n",
    "# def ok(x):\n",
    "#     return x < 3\n",
    "\n",
    "L_NEW = list(filter(ok, L))\n",
    "print(L_NEW)\n",
    "L_NEW = list(filter(lambda x: x < 3, L))\n",
    "print(L_NEW)\n",
    "L_NEW = filter(lambda x: x < 3, L)\n",
    "print(L_NEW)\n",
    "for x in L_NEW:\n",
    "    print(x)\n"
   ]
  },
  {
   "attachments": {},
   "cell_type": "markdown",
   "metadata": {},
   "source": [
    "id, hash"
   ]
  },
  {
   "cell_type": "code",
   "execution_count": 13,
   "metadata": {},
   "outputs": [
    {
     "name": "stdout",
     "output_type": "stream",
     "text": [
      "140591462686928 140591462686928\n",
      "256 256\n"
     ]
    }
   ],
   "source": [
    "a = 256\n",
    "b = 256\n",
    "\n",
    "print(id(a), id(b))\n",
    "print(hash(a), hash(b))"
   ]
  },
  {
   "cell_type": "code",
   "execution_count": 24,
   "metadata": {},
   "outputs": [
    {
     "name": "stdout",
     "output_type": "stream",
     "text": [
      "True\n",
      "False\n",
      "True\n",
      "True\n",
      "False\n"
     ]
    }
   ],
   "source": [
    "print(1 == 1)\n",
    "print(1 is 1)\n",
    "print([] is [])\n",
    "print([] == [])\n",
    "a = 256\n",
    "b = 256\n",
    "print(a is b)\n",
    "a = 257\n",
    "b = 257\n",
    "print(a is b)"
   ]
  }
 ],
 "metadata": {
  "kernelspec": {
   "display_name": "venv",
   "language": "python",
   "name": "python3"
  },
  "language_info": {
   "codemirror_mode": {
    "name": "ipython",
    "version": 3
   },
   "file_extension": ".py",
   "mimetype": "text/x-python",
   "name": "python",
   "nbconvert_exporter": "python",
   "pygments_lexer": "ipython3",
   "version": "3.10.6 (main, Nov 14 2022, 16:10:14) [GCC 11.3.0]"
  },
  "orig_nbformat": 4,
  "vscode": {
   "interpreter": {
    "hash": "934c0b5c8495c995e4e9bb089009b226fdc06a8e1cbef8b3aa4617ba323c6fd0"
   }
  }
 },
 "nbformat": 4,
 "nbformat_minor": 2
}
